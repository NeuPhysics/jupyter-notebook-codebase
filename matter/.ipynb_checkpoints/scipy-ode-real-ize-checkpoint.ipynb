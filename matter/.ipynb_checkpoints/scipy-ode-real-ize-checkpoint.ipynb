{
 "cells": [
  {
   "cell_type": "markdown",
   "metadata": {},
   "source": [
    "This is a dev notebook of a solver for matter effect."
   ]
  },
  {
   "cell_type": "code",
   "execution_count": 2,
   "metadata": {
    "collapsed": false,
    "scrolled": true
   },
   "outputs": [],
   "source": [
    "%matplotlib inline\n",
    "%load_ext snakeviz"
   ]
  },
  {
   "cell_type": "code",
   "execution_count": 3,
   "metadata": {
    "collapsed": true
   },
   "outputs": [],
   "source": [
    "import numpy as np\n",
    "from scipy.integrate import odeint\n",
    "from scipy.integrate import ode\n",
    "import matplotlib.pylab as plt"
   ]
  },
  {
   "cell_type": "code",
   "execution_count": 4,
   "metadata": {
    "collapsed": true
   },
   "outputs": [],
   "source": [
    "# import neuosc as no"
   ]
  },
  {
   "cell_type": "markdown",
   "metadata": {},
   "source": [
    "### Expectations\n",
    "\n",
    "Before any calculation, I have calculated the results using Mathematica. The system to be solved is\n",
    "\n",
    "$$\n",
    "i \\partial_x \n",
    "$$"
   ]
  },
  {
   "cell_type": "markdown",
   "metadata": {},
   "source": [
    "The parameters used before are (in units of $\\mathrm{MeV}$ or $\\mathrm{MeV}^2$):\n",
    "\n",
    "$\\theta_v = \\theta_{13} = 0.153077$\n",
    "\n",
    "$\\delta m^2 = \\delta m_{13}^2 = 2.6*10^{-15}$\n",
    "\n",
    "$\\omega_v=6.5*10^{-17}$\n",
    "\n",
    "$\\lambda_0 = 0.5 \\lambda_{MSW} = 3.09888*10^{-17}$\n",
    "\n",
    "$\\omega_m = 3.66619*10^{-17}$\n",
    "\n",
    "$\\theta_m = 0.162129$\n",
    "\n",
    "$k_1= 1; k_2 = 1/90$\n",
    "\n",
    "$\\{A_1,A_2\\} = \\{0.00003588645221954444, 0.06486364865874367\\}$ in units of omegam\n"
   ]
  },
  {
   "cell_type": "markdown",
   "metadata": {},
   "source": [
    "Using these parameters,\n",
    "\n",
    "1. Only one frequency case the oscillation weavelength is of the order $\\hat x = \\omega_m x\\sim 1000000$\n",
    "2. IF we are going to see the FULL oscillation, we expect a calculation range of $\\hat x \\sim 10^8$."
   ]
  },
  {
   "cell_type": "code",
   "execution_count": 5,
   "metadata": {
    "collapsed": false
   },
   "outputs": [],
   "source": [
    "# Parameters are shared by ALL methods in this notebook\n",
    "\n",
    "endpoint = 10000; # integration range\n",
    "dx = 10.0; # step size\n",
    "lam0 = 0.845258; # in unit of omegam, omegam = 3.66619*10^-17\n",
    "dellam = np.array([0.00003588645221954444, 0.06486364865874367]); # deltalambda/omegam\n",
    "ks = [1.0,1.0/90]; # two k's\n",
    "thm = 0.16212913985547778; # theta_m\n",
    "\n",
    "savestep = 1;"
   ]
  },
  {
   "cell_type": "markdown",
   "metadata": {},
   "source": [
    "# REAL SYSTEM"
   ]
  },
  {
   "cell_type": "markdown",
   "metadata": {},
   "source": [
    "We can also make it real."
   ]
  },
  {
   "cell_type": "code",
   "execution_count": 50,
   "metadata": {
    "collapsed": false
   },
   "outputs": [],
   "source": [
    "### Real System\n",
    "psi40, x40 = [1.0, 0.0, 0.0, 0.0], 0 # initial condition\n",
    "\n",
    "xlin4 = np.arange(dx,endpoint+1*dx, dx)\n",
    "\n",
    "psi4 = np.zeros([len(xlin4)  , 4])\n",
    "\n",
    "\n",
    "xlin4save = np.zeros(len(xlin4)/savestep);\n",
    "psi4save = np.zeros([len(xlin4save)  , 5])\n",
    "\n",
    "\n",
    "\n",
    "#########################\n",
    "# Make the equation all Real\n",
    "#########################\n",
    "\n",
    "def hamiltonian(x, deltalambda, k, thetam):\n",
    "    \n",
    "#    return (-0.5 + 0.5 * deltalambda * np.sin(k*x) * np.cos(2*thetam) ) * no.pauli_matrices(3) - 0.5 * deltalambda * np.sin(k*x) * np.sin(2*thetam) * no.pauli_matrices(1)     # This hamiltonian is not working\n",
    "#    return [[ 0,   0.5* np.sin(2*thetam) * deltalambda * np.sin(k*x) * np.exp( 1.0j * ( - x - np.cos(2*thetam) * (deltalambda * np.cos(k*x) / k)  ) )     ],   [ 0.5* np.sin(2*thetam) * deltalambda * np.sin(k*x) * np.exp( -1.0j * ( - x - np.cos(2*thetam) * ( deltalambda /k * np.cos(k*x) )  ) ), 0 ]]   # this is the Hamiltonian that I used in MMA exactly  \n",
    "    return np.array( [[ 0,   0.5* np.sin(2*thetam) * ( deltalambda[0] * np.sin(k[0]*x) + deltalambda[1] * np.sin(k[1]*x) ) * np.exp( 1.0j * ( - x - np.cos(2*thetam) * (  ( deltalambda[0]/k[0] * np.cos(k[0]*x) + deltalambda[1]/k[1] * np.cos(k[1]*x) ) )  ) )     ],   [ 0.5* np.sin(2*thetam) * ( deltalambda[0] * np.sin(k[0]*x) + deltalambda[1] * np.sin(k[1]*x) ) * np.exp( -1.0j * ( - x - np.cos(2*thetam) * ( deltalambda[0] /k[0] * np.cos(k[0]*x) + deltalambda[1] /k[1] * np.cos(k[1]*x) )  ) ), 0 ]]  ) # Hamiltonian for double frequency\n",
    "\n",
    "\n",
    "def hamiltonian4(x, deltalambda, k, thetam):\n",
    "    \n",
    "    hr = np.array(hamiltonian(x, deltalambda, k, thetam)).real;\n",
    "    hi = np.array(hamiltonian(x, deltalambda, k, thetam)).imag;\n",
    "    \n",
    "    return np.array([[hi[0][0],hi[0][1],hr[0][0],hr[0][1]], [hi[1][0],hi[1][1],hr[1][0],hr[1][1]], [- hr[0][0], - hr[0][1], hi[0][0], hi[0][1]],  [- hr[1][0], - hr[1][1], hi[1][0], hi[1][1]] ] )\n",
    "\n",
    "def sysdpsidt(x, psi, deltalambda, k, thetam):\n",
    "    \n",
    "    return np.dot(hamiltonian4(x, deltalambda, k, thetam), [psi[0], psi[1], psi[2], psi[3]])\n"
   ]
  },
  {
   "cell_type": "code",
   "execution_count": 51,
   "metadata": {
    "collapsed": false,
    "scrolled": false
   },
   "outputs": [
    {
     "data": {
      "text/plain": [
       "array([[ 0.        , -0.00023664,  0.        , -0.00111786],\n",
       "       [ 0.00023664,  0.        , -0.00111786,  0.        ],\n",
       "       [-0.        ,  0.00111786,  0.        , -0.00023664],\n",
       "       [ 0.00111786, -0.        ,  0.00023664,  0.        ]])"
      ]
     },
     "execution_count": 51,
     "metadata": {},
     "output_type": "execute_result"
    }
   ],
   "source": [
    "hamiltonian4(10,dellam,ks,thm)"
   ]
  },
  {
   "cell_type": "code",
   "execution_count": 52,
   "metadata": {
    "collapsed": false
   },
   "outputs": [
    {
     "data": {
      "text/plain": [
       "10.0"
      ]
     },
     "execution_count": 52,
     "metadata": {},
     "output_type": "execute_result"
    }
   ],
   "source": [
    "xlin4[0]"
   ]
  },
  {
   "cell_type": "code",
   "execution_count": 53,
   "metadata": {
    "collapsed": false
   },
   "outputs": [],
   "source": [
    "## Real System\n",
    "\n",
    "atol_req = 1e-8\n",
    "\n",
    "sol4 = ode(sysdpsidt).set_integrator('dopri5', atol=atol_req)\n",
    "sol4.set_initial_value(psi40, x40).set_f_params(dellam,ks,thm)\n",
    "\n",
    "flag4 = 0\n",
    "flag4save = 0\n",
    "\n",
    "while sol4.successful() and sol4.t < endpoint:\n",
    "    sol4.integrate(xlin4[flag4])\n",
    "    if np.mod(flag4,savestep)==0:\n",
    "        psi4save[flag4save] = [sol4.t, sol4.y[0],sol4.y[1],sol4.y[2],sol4.y[3]]\n",
    " \n",
    "        with open(r\"assets/ode-dopri5-range-\"+str(endpoint)+\"-step-\"+str(dx)+\"-atol-\"+str(atol_req)+\".csv\", 'a') as f_handle:\n",
    "            np.savetxt(f_handle, psi4save[flag4save])\n",
    "        \n",
    "        flag4save = flag4save + 1\n",
    "    flag4 = flag4 + 1\n",
    "    #   print sol.t, sol.y\n",
    "\n"
   ]
  },
  {
   "cell_type": "code",
   "execution_count": 36,
   "metadata": {
    "collapsed": true
   },
   "outputs": [],
   "source": [
    "prob0 = psi4save[:,0]**2+psi4save[:,2]**2\n",
    "prob1 = psi4save[:,1]**2+psi4save[:,3]**2\n",
    "\n",
    "#prob0_100=solodeint100[0][:,0]**2+solodeint100[0][:,2]**2\n",
    "#prob1_100=solodeint100[0][:,1]**2+solodeint100[0][:,3]**2"
   ]
  },
  {
   "cell_type": "code",
   "execution_count": 41,
   "metadata": {
    "collapsed": false,
    "scrolled": false
   },
   "outputs": [
    {
     "name": "stdout",
     "output_type": "stream",
     "text": [
      "assets/ode-dopri5-range-10000-step-10.0-prob0\n"
     ]
    }
   ],
   "source": [
    "#print prob0, prob1, prob0+prob1\n",
    "np.save(\"assets/ode-dopri5-range-\"+str(endpoint)+\"-step-\"+str(dx)+\"-prob0\",prob0)\n",
    "np.save(\"assets/ode-dopri5-range-\"+str(endpoint)+\"-step-\"+str(dx)+\"-prob1\",prob1)\n",
    "np.save(\"assets/ode-dopri5-range-\"+str(endpoint)+\"-step-\"+str(dx)+\"-xlin4\",xlin4)\n",
    "\n",
    "print \"assets/ode-dopri5-range-\"+str(endpoint)+\"-step-\"+str(dx)+\"-prob0\""
   ]
  },
  {
   "cell_type": "code",
   "execution_count": null,
   "metadata": {
    "collapsed": true
   },
   "outputs": [],
   "source": []
  }
 ],
 "metadata": {
  "kernelspec": {
   "display_name": "Python 2",
   "language": "python",
   "name": "python2"
  },
  "language_info": {
   "codemirror_mode": {
    "name": "ipython",
    "version": 2
   },
   "file_extension": ".py",
   "mimetype": "text/x-python",
   "name": "python",
   "nbconvert_exporter": "python",
   "pygments_lexer": "ipython2",
   "version": "2.7.11"
  }
 },
 "nbformat": 4,
 "nbformat_minor": 0
}
