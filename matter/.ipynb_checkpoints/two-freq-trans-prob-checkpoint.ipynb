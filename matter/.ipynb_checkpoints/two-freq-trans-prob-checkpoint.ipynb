{
 "cells": [
  {
   "cell_type": "code",
   "execution_count": 35,
   "metadata": {
    "collapsed": true
   },
   "outputs": [],
   "source": [
    "import numpy as np\n",
    "from scipy.integrate import odeint\n",
    "from scipy.integrate import ode\n",
    "import matplotlib.pylab as plt\n",
    "\n",
    "    \n",
    "endpoint = 1000; # integration range\n",
    "dx = 10.0; # step size\n",
    "lam0 = 0.845258; # in unit of omegam, omegam = 3.66619*10^-17\n",
    "dellam = np.array([0.00003588645221954444, 0.06486364865874367]); # deltalambda/omegam\n",
    "ks = [1.0,1.0/90]; # two k's\n",
    "thm = 0.16212913985547778; # theta_m\n",
    "\n",
    "\n",
    "psi0, x0 = [1.0+0.j, 0.0], 0\n",
    "\n",
    "savestep = 10;\n",
    "\n",
    "xlin = np.arange(dx,endpoint+1*dx, dx)\n",
    "\n",
    "psi = np.zeros([len(xlin)  , 2], dtype='complex_')\n",
    "\n",
    "xlinsave = np.zeros(len(xlin)/savestep);\n",
    "psisave = np.zeros([len(xlinsave)  , 2], dtype='complex_')\n",
    "\n",
    "\n",
    "def hamiltonian(x, deltalambda, k, thetam):\n",
    "    \n",
    "    return [[ 0,   0.5* np.sin(2*thetam) * ( deltalambda[0] * np.sin(k[0]*x) + deltalambda[1] * np.sin(k[1]*x) ) * np.exp( 1.0j * ( - x - np.cos(2*thetam) * (  ( deltalambda[0]/k[0] * np.cos(k[0]*x) + deltalambda[1]/k[1] * np.cos(k[1]*x) ) )  ) )     ],   [ 0.5* np.sin(2*thetam) * ( deltalambda[0] * np.sin(k[0]*x) + deltalambda[1] * np.sin(k[1]*x) ) * np.exp( -1.0j * ( - x - np.cos(2*thetam) * ( deltalambda[0] /k[0] * np.cos(k[0]*x) + deltalambda[1] /k[1] * np.cos(k[1]*x) )  ) ), 0 ]]   # Hamiltonian for double frequency\n",
    "\n",
    "def deripsi(t, psi, deltalambda, k , thetam):\n",
    "    \n",
    "    return -1.0j * np.dot( hamiltonian(t, deltalambda,k,thetam), [psi[0], psi[1]] )\n",
    "\n",
    "\n",
    "\n",
    "sol = ode(deripsi).set_integrator('zvode', method='bdf', atol=1e-8, with_jacobian=False)\n",
    "sol.set_initial_value(psi0, x0).set_f_params(dellam,ks,thm)\n",
    "\n",
    "flag = 0\n",
    "flagsave = 0\n",
    "\n",
    "while sol.successful() and sol.t < endpoint:\n",
    "    sol.integrate(xlin[flag])\n",
    "    if np.mod(flag,savestep)==0:\n",
    "        psisave[flagsave] = sol.y\n",
    "        xlinsave[flagsave] = sol.t\n",
    "        flagsave = flagsave + 1\n",
    "    flag = flag + 1\n",
    "    #   print sol.t, sol.y\n",
    "\n",
    "\n",
    "\n",
    "prob = np.absolute(psisave)**2\n",
    "probtran = np.transpose(prob)\n",
    "np.save(\"probtran\",probtran)"
   ]
  },
  {
   "cell_type": "code",
   "execution_count": null,
   "metadata": {
    "collapsed": true
   },
   "outputs": [],
   "source": []
  }
 ],
 "metadata": {
  "kernelspec": {
   "display_name": "Python 2",
   "language": "python",
   "name": "python2"
  },
  "language_info": {
   "codemirror_mode": {
    "name": "ipython",
    "version": 2
   },
   "file_extension": ".py",
   "mimetype": "text/x-python",
   "name": "python",
   "nbconvert_exporter": "python",
   "pygments_lexer": "ipython2",
   "version": "2.7.10"
  }
 },
 "nbformat": 4,
 "nbformat_minor": 0
}
