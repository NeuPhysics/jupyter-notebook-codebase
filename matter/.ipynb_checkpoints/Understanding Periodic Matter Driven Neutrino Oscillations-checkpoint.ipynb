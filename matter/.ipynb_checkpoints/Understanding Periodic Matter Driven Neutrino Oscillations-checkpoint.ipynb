{
 "cells": [
  {
   "cell_type": "markdown",
   "metadata": {},
   "source": [
    "## Understanding Periodic Matter Driven Neutrino Oscillations"
   ]
  },
  {
   "cell_type": "markdown",
   "metadata": {},
   "source": [
    "blablablabla"
   ]
  },
  {
   "cell_type": "markdown",
   "metadata": {},
   "source": [
    "I have an analytical expression using two folds of approximations.\n",
    "\n",
    "To check out how good the expression is doing, I need to verify at three levels.\n",
    "\n",
    "1. Compare the solution to the equation I have after the first RWA approximation and the final result;\n",
    "2. Compare the solution to the equation I have after the first RWA approximation and the solution to the original equation;\n",
    "3. IF the solution works well in the previous two comparisons, compare the solution to the original equation and the final analytical expression."
   ]
  },
  {
   "cell_type": "markdown",
   "metadata": {},
   "source": [
    "**Before doing anything, check if it is possible to find an analytical solution to the RWA approximated equation!**"
   ]
  },
  {
   "cell_type": "markdown",
   "metadata": {},
   "source": [
    "### Analytical Expressioin"
   ]
  },
  {
   "cell_type": "code",
   "execution_count": null,
   "metadata": {
    "collapsed": true
   },
   "outputs": [],
   "source": []
  }
 ],
 "metadata": {
  "kernelspec": {
   "display_name": "Python 2",
   "language": "python",
   "name": "python2"
  },
  "language_info": {
   "codemirror_mode": {
    "name": "ipython",
    "version": 2
   },
   "file_extension": ".py",
   "mimetype": "text/x-python",
   "name": "python",
   "nbconvert_exporter": "python",
   "pygments_lexer": "ipython2",
   "version": "2.7.9"
  }
 },
 "nbformat": 4,
 "nbformat_minor": 0
}
