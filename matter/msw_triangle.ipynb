{
 "cells": [
  {
   "cell_type": "markdown",
   "metadata": {},
   "source": [
    "## MSW Triangle"
   ]
  },
  {
   "cell_type": "markdown",
   "metadata": {},
   "source": [
    "Paremeters to be used\n",
    "\n",
    "1. mixing angle $\\theta$\n",
    "2. mass difference $\\Delta m^2$\n",
    "3. energy of neutrinos $E$\n",
    "4. matter profile $n_e(x)$"
   ]
  },
  {
   "cell_type": "markdown",
   "metadata": {},
   "source": [
    "Survival probability is given by\n",
    "\n",
    "\\begin{equation}\n",
    "P_{\\nu_e\\to\\nu_e} =  \\frac{1}{2} + \\left( \\frac{1}{2} - P_f \\right) \\cos 2\\theta \\cos 2\\theta_m,\n",
    "\\end{equation}\n",
    "\n",
    "where \n",
    "\n",
    "\\begin{equation}\n",
    "P_f = e^{-\\frac{\\pi}{2}\\gamma},\n",
    "\\end{equation}\n",
    "\n",
    "and \n",
    "\n",
    "\\begin{equation}\n",
    "\\gamma = \\frac{\\Delta m^2 \\sin^2 2\\theta}{2E \\cos 2\\theta \\left\\lvert \\frac{1}{n_e} \\frac{dn_e}{dr} \\right\\rvert } = \\frac{\\omega \\sin^2 2\\theta}{\\cos 2\\theta \\left\\lvert \\frac{1}{n_e} \\frac{dn_e}{dr} \\right\\rvert }  = \\frac{\\omega \\sin^2 2\\theta}{\\cos 2\\theta \\left\\lvert \\frac{1}{\\hat\\lambda} \\frac{d\\hat\\lambda}{dr} \\right\\rvert }\n",
    "\\end{equation}"
   ]
  },
  {
   "cell_type": "markdown",
   "metadata": {},
   "source": [
    "in which \n",
    "\n",
    "\\begin{equation}\n",
    "\\cos 2\\theta_m = \\frac{\\cos 2\\theta - \\hat\\lambda}{\\sqrt{\\hat\\lambda^2 + 1 - 2\\hat\\lambda \\cos 2\\theta}},\n",
    "\\end{equation}"
   ]
  },
  {
   "cell_type": "markdown",
   "metadata": {},
   "source": [
    "What we would like to produce is the survival probability of electron neutrinos as a heat map with two parameters mass difference $\\Delta m^2$ and $\\sin^22\\theta$ at each distance $x$.\n",
    "\n",
    "The formula we have above is only valid far away from the resonance where the Landau-Zener transition happens."
   ]
  },
  {
   "cell_type": "markdown",
   "metadata": {},
   "source": [
    "The gamma for our sun is\n",
    "\n",
    "\\begin{equation}\n",
    "\\gamma_S = 3.36\\times 10^{14} \\omega \\frac{\\sin^22\\theta}{\\cos2\\theta} = 2.554\\times 10^3 \\frac{\\sin^22\\theta}{\\cos2\\theta} \\frac{1}{\\hat\\lambda}\n",
    "\\end{equation}"
   ]
  },
  {
   "cell_type": "code",
   "execution_count": 45,
   "metadata": {
    "collapsed": true
   },
   "outputs": [],
   "source": [
    "%matplotlib inline"
   ]
  },
  {
   "cell_type": "code",
   "execution_count": 46,
   "metadata": {
    "collapsed": true
   },
   "outputs": [],
   "source": [
    "import numpy as np\n",
    "import sys\n",
    "sys.path.insert(0,'../../module')\n",
    "import neuosc as ns\n",
    "import sympy as sp\n",
    "import matplotlib.pyplot as plt"
   ]
  },
  {
   "cell_type": "code",
   "execution_count": 47,
   "metadata": {
    "collapsed": true
   },
   "outputs": [],
   "source": [
    "figureSize = (13,9)"
   ]
  },
  {
   "cell_type": "code",
   "execution_count": 48,
   "metadata": {
    "collapsed": false
   },
   "outputs": [
    {
     "data": {
      "text/plain": [
       "<module 'neuosc' from '../../module/neuosc.py'>"
      ]
     },
     "execution_count": 48,
     "metadata": {},
     "output_type": "execute_result"
    }
   ],
   "source": [
    "reload(ns)"
   ]
  },
  {
   "cell_type": "code",
   "execution_count": 49,
   "metadata": {
    "collapsed": false
   },
   "outputs": [],
   "source": [
    "neu_e = 1000000  #eV\n",
    "msw_eff = ns.MSW(neu_e)"
   ]
  },
  {
   "cell_type": "code",
   "execution_count": 50,
   "metadata": {
    "collapsed": false
   },
   "outputs": [
    {
     "data": {
      "text/plain": [
       "0.98026524850072128"
      ]
     },
     "execution_count": 50,
     "metadata": {},
     "output_type": "execute_result"
    }
   ],
   "source": [
    "msw_eff.adiabatic_p(0.1,0)"
   ]
  },
  {
   "cell_type": "code",
   "execution_count": 51,
   "metadata": {
    "collapsed": false,
    "scrolled": false
   },
   "outputs": [],
   "source": [
    "size = [200,100]\n",
    "\n",
    "sinma = np.logspace(-4, 0, num=size[0])\n",
    "lam = np.logspace(6, -1, size[1])"
   ]
  },
  {
   "cell_type": "code",
   "execution_count": 52,
   "metadata": {
    "collapsed": false,
    "scrolled": true
   },
   "outputs": [],
   "source": [
    "su_prob = [[0 for x in range(size[0])] for x in range(size[1])]\n",
    "\n",
    "md = 0\n",
    "\n",
    "for matter in lam:\n",
    "    agl = 0\n",
    "    for sin22theta in sinma:\n",
    "        angle = np.arcsin( np.sqrt(sin22theta) )/2\n",
    "        su_prob[md][agl] = msw_eff.solar_landau_zener_p(angle, matter)#adiabatic_p(angle, matter)\n",
    "        agl = agl + 1\n",
    "    md = md + 1\n"
   ]
  },
  {
   "cell_type": "code",
   "execution_count": 53,
   "metadata": {
    "collapsed": false
   },
   "outputs": [
    {
     "data": {
      "image/png": "[encoded data removed]",
      "text/plain": [
       "<matplotlib.figure.Figure at 0x10fc43250>"
      ]
     },
     "metadata": {},
     "output_type": "display_data"
    }
   ],
   "source": [
    "sinma, lam = np.meshgrid(np.log10(sinma), np.log10(lam) )\n",
    "plt.figure(figsize=figureSize)\n",
    "plt.pcolormesh(sinma, lam, np.array(su_prob) )\n",
    "plt.colorbar() #need a colorbar to show the intensity scale\n",
    "plt.show() #boom"
   ]
  },
  {
   "cell_type": "code",
   "execution_count": null,
   "metadata": {
    "collapsed": true
   },
   "outputs": [],
   "source": []
  }
 ],
 "metadata": {
  "kernelspec": {
   "display_name": "Python 2",
   "language": "python",
   "name": "python2"
  },
  "language_info": {
   "codemirror_mode": {
    "name": "ipython",
    "version": 2
   },
   "file_extension": ".py",
   "mimetype": "text/x-python",
   "name": "python",
   "nbconvert_exporter": "python",
   "pygments_lexer": "ipython2",
   "version": "2.7.10"
  }
 },
 "nbformat": 4,
 "nbformat_minor": 0
}
