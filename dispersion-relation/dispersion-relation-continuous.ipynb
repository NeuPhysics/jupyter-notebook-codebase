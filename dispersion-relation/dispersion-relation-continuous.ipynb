{
 "cells": [
  {
   "cell_type": "code",
   "execution_count": 55,
   "metadata": {
    "collapsed": true
   },
   "outputs": [],
   "source": [
    "import numpy as np\n",
    "import matplotlib.pyplot as plt"
   ]
  },
  {
   "cell_type": "markdown",
   "metadata": {},
   "source": [
    "Plot omega(n)."
   ]
  },
  {
   "cell_type": "code",
   "execution_count": 30,
   "metadata": {
    "collapsed": false
   },
   "outputs": [],
   "source": [
    "def IntFun0n(n, spect):\n",
    "    \n",
    "    ct1 = spect[0][0]\n",
    "    ct2 = spect[0][1]\n",
    "    \n",
    "    return spect[1]*(-np.log( (1-ct1*n)/(1-ct2*n)  ) ) /n;\n",
    "    \n",
    "    \n",
    "def IntFun1n(n, spect):\n",
    "    \n",
    "    ct1 = spect[0][0]\n",
    "    ct2 = spect[0][1]\n",
    "\n",
    "    return spect[1] * ((-ct1+ct2) + np.log(  (ct2*n-1)/(ct1*n-1)  ) /n)/n\n",
    "\n",
    "\n",
    "def IntFun2n(n, spect):\n",
    "    \n",
    "    ct1 = spect[0][0]\n",
    "    ct2 = spect[0][1]\n",
    "\n",
    "    return spect[1] * (-(ct1-ct2) * ( (ct1+ct2) +2/n) + 2 * np.log(  (ct2 * n-1)/(ct1 * n-1) ) /n**2)/(2 * n);"
   ]
  },
  {
   "cell_type": "code",
   "execution_count": 53,
   "metadata": {
    "collapsed": false
   },
   "outputs": [],
   "source": [
    "def ConAxialSymOmegaNMZA(n,spectra):\n",
    "    \n",
    "    i0mzaM = np.sum( np.array( [ IntFun0n(n, spect) for spect in spectra ] ) )\n",
    "    i2mzaM = np.sum( np.array( [ IntFun2n(n, spect) for spect in spectra ] ) )\n",
    "    i1mzaM = np.sum( np.array( [ IntFun1n(n, spect) for spect in spectra ] ) )\n",
    "  \n",
    "    return  np.array([ ( i0mzaM - i2mzaM + np.sqrt( ( i0mzaM + i2mzaM - 2*i1mzaM ) * ( i0mzaM + i2mzaM + 2*i1mzaM ) )  )/(-4) ,\\\n",
    "                       ( i0mzaM - i2mzaM - np.sqrt( ( i0mzaM + i2mzaM - 2*i1mzaM ) * ( i0mzaM + i2mzaM + 2*i1mzaM ) )  )/(-4) ])\n"
   ]
  },
  {
   "cell_type": "markdown",
   "metadata": {
    "collapsed": true
   },
   "source": [
    "Now feed in the array of spectrum\n",
    "{{{0.9, 0.6}, 3}, {{0.6, 0.3}, -3}}"
   ]
  },
  {
   "cell_type": "code",
   "execution_count": 32,
   "metadata": {
    "collapsed": true
   },
   "outputs": [],
   "source": [
    "spectStepLike = np.array( [ [ [0.9, 0.6], 3], [ [0.6, 0.3], -3 ] ] )"
   ]
  },
  {
   "cell_type": "code",
   "execution_count": 33,
   "metadata": {
    "collapsed": false
   },
   "outputs": [
    {
     "data": {
      "text/plain": [
       "array([[[0.9, 0.6], 3]], dtype=object)"
      ]
     },
     "execution_count": 33,
     "metadata": {},
     "output_type": "execute_result"
    }
   ],
   "source": [
    "spectStepLike[[0]]"
   ]
  },
  {
   "cell_type": "code",
   "execution_count": 34,
   "metadata": {
    "collapsed": false
   },
   "outputs": [
    {
     "data": {
      "text/plain": [
       "1.2888769269499456"
      ]
     },
     "execution_count": 34,
     "metadata": {},
     "output_type": "execute_result"
    }
   ],
   "source": [
    "IntFun0n(0.4,spectStepLike[0])"
   ]
  },
  {
   "cell_type": "code",
   "execution_count": 54,
   "metadata": {
    "collapsed": false
   },
   "outputs": [
    {
     "data": {
      "text/plain": [
       "array([-0.06610183, -0.01367181])"
      ]
     },
     "execution_count": 54,
     "metadata": {},
     "output_type": "execute_result"
    }
   ],
   "source": [
    "ConAxialSymOmegaNMZA(10, spectStepLike)"
   ]
  },
  {
   "cell_type": "code",
   "execution_count": 72,
   "metadata": {
    "collapsed": true
   },
   "outputs": [],
   "source": [
    "nArray = np.linspace( -6, 5, 1000 )"
   ]
  },
  {
   "cell_type": "code",
   "execution_count": 73,
   "metadata": {
    "collapsed": false
   },
   "outputs": [
    {
     "name": "stdout",
     "output_type": "stream",
     "text": [
      "[[ 0.02409296  0.0388017 ]\n",
      " [ 0.02414653  0.03882435]\n",
      " [ 0.02420038  0.0388469 ]\n",
      " ..., \n",
      " [-0.23941022 -0.02841249]\n",
      " [-0.23810158 -0.02834439]\n",
      " [-0.23680681 -0.02827662]]\n"
     ]
    },
    {
     "name": "stderr",
     "output_type": "stream",
     "text": [
      "/Users/leima/anaconda/lib/python2.7/site-packages/ipykernel/__main__.py:7: RuntimeWarning: invalid value encountered in sqrt\n",
      "/Users/leima/anaconda/lib/python2.7/site-packages/ipykernel/__main__.py:6: RuntimeWarning: invalid value encountered in log\n",
      "/Users/leima/anaconda/lib/python2.7/site-packages/ipykernel/__main__.py:22: RuntimeWarning: invalid value encountered in log\n",
      "/Users/leima/anaconda/lib/python2.7/site-packages/ipykernel/__main__.py:14: RuntimeWarning: invalid value encountered in log\n"
     ]
    }
   ],
   "source": [
    "omegaArray = np.array([ ConAxialSymOmegaNMZA( n, spectStepLike ) for n in nArray ])\n",
    "print omegaArray"
   ]
  },
  {
   "cell_type": "code",
   "execution_count": 74,
   "metadata": {
    "collapsed": false
   },
   "outputs": [
    {
     "data": {
      "text/plain": [
       "array([ 0.02409296,  0.02414653,  0.02420038,  0.02425453,  0.02430897,\n",
       "        0.02436372,  0.02441877,  0.02447413,  0.0245298 ,  0.02458578,\n",
       "        0.02464208,  0.0246987 ,  0.02475565,  0.02481292,  0.02487053,\n",
       "        0.02492847,  0.02498676,  0.02504539,  0.02510436,  0.02516369,\n",
       "        0.02522338,  0.02528343,  0.02534384,  0.02540463,  0.02546579,\n",
       "        0.02552733,  0.02558925,  0.02565157,  0.02571428,  0.02577739,\n",
       "        0.0258409 ,  0.02590483,  0.02596917,  0.02603394,  0.02609914,\n",
       "        0.02616477,  0.02623084,  0.02629736,  0.02636433,  0.02643177,\n",
       "        0.02649967,  0.02656804,  0.0266369 ,  0.02670625,  0.0267761 ,\n",
       "        0.02684645,  0.02691731,  0.0269887 ,  0.02706062,  0.02713307,\n",
       "        0.02720608,  0.02727964,  0.02735378,  0.02742849,  0.02750379,\n",
       "        0.02757969,  0.0276562 ,  0.02773333,  0.0278111 ,  0.02788952,\n",
       "        0.0279686 ,  0.02804835,  0.02812878,  0.02820992,  0.02829178,\n",
       "        0.02837437,  0.0284577 ,  0.02854181,  0.02862669,  0.02871238,\n",
       "        0.02879889,  0.02888624,  0.02897445,  0.02906354,  0.02915354,\n",
       "        0.02924448,  0.02933637,  0.02942924,  0.02952312,  0.02961805,\n",
       "        0.02971405,  0.02981115,  0.0299094 ,  0.03000882,  0.03010946,\n",
       "        0.03021136,  0.03031456,  0.03041912,  0.03052508,  0.03063249,\n",
       "        0.03074142,  0.03085194,  0.03096409,  0.03107798,  0.03119366,\n",
       "        0.03131123,  0.03143079,  0.03155244,  0.0316763 ,  0.03180248,\n",
       "        0.03193114,  0.03206243,  0.03219653,  0.03233363,  0.03247396,\n",
       "        0.03261779,  0.0327654 ,  0.03291714,  0.03307342,  0.03323472,\n",
       "        0.03340162,  0.03357482,  0.03375523,  0.03394395,  0.03414246,\n",
       "        0.03435275,  0.03457762,  0.03482129,  0.03509055,  0.03539793,\n",
       "        0.0357721 ,  0.03632908,         nan,         nan,         nan,\n",
       "               nan,         nan,         nan,         nan,         nan,\n",
       "               nan,         nan,         nan,         nan,         nan,\n",
       "               nan,         nan,         nan,         nan,         nan,\n",
       "               nan,         nan,         nan,         nan,         nan,\n",
       "               nan,         nan,         nan,         nan,         nan,\n",
       "               nan,         nan,         nan,         nan,         nan,\n",
       "               nan,         nan,         nan,         nan,         nan,\n",
       "               nan,         nan,         nan,         nan,         nan,\n",
       "               nan,         nan,         nan,         nan,         nan,\n",
       "               nan,         nan,         nan,         nan,         nan,\n",
       "               nan,         nan,         nan,         nan,         nan,\n",
       "               nan,         nan,         nan,         nan,         nan,\n",
       "               nan,         nan,         nan,         nan,         nan,\n",
       "               nan,         nan,         nan,         nan,         nan,\n",
       "               nan,         nan,         nan,         nan,         nan,\n",
       "               nan,         nan,         nan,         nan,         nan,\n",
       "               nan,         nan,         nan,         nan,         nan,\n",
       "               nan,         nan,         nan,         nan,         nan,\n",
       "               nan,         nan,         nan,         nan,         nan,\n",
       "               nan,         nan,         nan,         nan,         nan,\n",
       "               nan,         nan,         nan,         nan,         nan,\n",
       "               nan,         nan,         nan,         nan,         nan,\n",
       "               nan,         nan,         nan,         nan,         nan,\n",
       "               nan,         nan,         nan,         nan,         nan,\n",
       "               nan,         nan,         nan,         nan,         nan,\n",
       "               nan,         nan,         nan,         nan,         nan,\n",
       "               nan,         nan,         nan,         nan,         nan,\n",
       "               nan,         nan,         nan,         nan,         nan,\n",
       "               nan,         nan,         nan,         nan,         nan,\n",
       "               nan,         nan,         nan,         nan,         nan,\n",
       "               nan,         nan,         nan,         nan,         nan,\n",
       "               nan,         nan,         nan,         nan,         nan,\n",
       "               nan,         nan,         nan,         nan,         nan,\n",
       "               nan,         nan,         nan,         nan,         nan,\n",
       "               nan,         nan,         nan,         nan,         nan,\n",
       "               nan,         nan,         nan,         nan,         nan,\n",
       "               nan,         nan,         nan,         nan,         nan,\n",
       "               nan,         nan,         nan,         nan,         nan,\n",
       "               nan,         nan,         nan,         nan,         nan,\n",
       "               nan,         nan,         nan,         nan,         nan,\n",
       "               nan,         nan,         nan,         nan,         nan,\n",
       "               nan,         nan,         nan,         nan,         nan,\n",
       "               nan,         nan,         nan,         nan,         nan,\n",
       "               nan,         nan,         nan,         nan,         nan,\n",
       "               nan,         nan,         nan,         nan,         nan,\n",
       "               nan,         nan,         nan,         nan,         nan,\n",
       "               nan,         nan,         nan,         nan,         nan,\n",
       "               nan,         nan,         nan,         nan,         nan,\n",
       "               nan,         nan,         nan,         nan,         nan,\n",
       "               nan,         nan,         nan,         nan,         nan,\n",
       "               nan,         nan,         nan,         nan,         nan,\n",
       "               nan,         nan,         nan,         nan,         nan,\n",
       "               nan,         nan,         nan,         nan,         nan,\n",
       "               nan,         nan,         nan,         nan,         nan,\n",
       "               nan,         nan,         nan,         nan,         nan,\n",
       "               nan,         nan,         nan,         nan,         nan,\n",
       "               nan,         nan,         nan,         nan,         nan,\n",
       "               nan,         nan,         nan,         nan,         nan,\n",
       "               nan,         nan,         nan,         nan,         nan,\n",
       "               nan,         nan,         nan,         nan,         nan,\n",
       "               nan,         nan,         nan,         nan,         nan,\n",
       "               nan,         nan,         nan,         nan,         nan,\n",
       "               nan,         nan,         nan,         nan,         nan,\n",
       "               nan,         nan,         nan,         nan,         nan,\n",
       "               nan,         nan,         nan,         nan,         nan,\n",
       "               nan,         nan,         nan,         nan,         nan,\n",
       "               nan,         nan,         nan,         nan,         nan,\n",
       "               nan,         nan,         nan,         nan,         nan,\n",
       "               nan,         nan,         nan,         nan,         nan,\n",
       "               nan,         nan,         nan,         nan,         nan,\n",
       "               nan,         nan,         nan,         nan,         nan,\n",
       "               nan,         nan,         nan,         nan,         nan,\n",
       "               nan,         nan,         nan,         nan,         nan,\n",
       "               nan,         nan,         nan,         nan,         nan,\n",
       "               nan,         nan,         nan,         nan,         nan,\n",
       "               nan,         nan,         nan,         nan,         nan,\n",
       "               nan,         nan,         nan,         nan,         nan,\n",
       "               nan,         nan,         nan,         nan,         nan,\n",
       "               nan,         nan,         nan,         nan,         nan,\n",
       "               nan,         nan,         nan,         nan,         nan,\n",
       "               nan,         nan,         nan,         nan,         nan,\n",
       "               nan,         nan,         nan,         nan,         nan,\n",
       "               nan,         nan,         nan,         nan,         nan,\n",
       "               nan,         nan,         nan,         nan,         nan,\n",
       "               nan,         nan,         nan,         nan,         nan,\n",
       "               nan,         nan,         nan,         nan,         nan,\n",
       "               nan,         nan,         nan,         nan,         nan,\n",
       "               nan,         nan,         nan,         nan,         nan,\n",
       "               nan,         nan,         nan,         nan,         nan,\n",
       "               nan,         nan,         nan,         nan,         nan,\n",
       "               nan,         nan,         nan,         nan,         nan,\n",
       "               nan,         nan,         nan,         nan,         nan,\n",
       "               nan,         nan,         nan,         nan,         nan,\n",
       "               nan,         nan,         nan,         nan,         nan,\n",
       "               nan,         nan,         nan,         nan,         nan,\n",
       "               nan,         nan,         nan,         nan,         nan,\n",
       "               nan,         nan,         nan,         nan,         nan,\n",
       "               nan,         nan,         nan,         nan,         nan,\n",
       "               nan,         nan,         nan,         nan,         nan,\n",
       "               nan,         nan,         nan,         nan,         nan,\n",
       "               nan,         nan,         nan,         nan,         nan,\n",
       "               nan,         nan,         nan,         nan,         nan,\n",
       "               nan,         nan,         nan,         nan,         nan,\n",
       "               nan,         nan,         nan,         nan,         nan,\n",
       "               nan,         nan,         nan,         nan,         nan,\n",
       "               nan,         nan,         nan,         nan,         nan,\n",
       "               nan,         nan,         nan,         nan,         nan,\n",
       "               nan,         nan,         nan,         nan,         nan,\n",
       "               nan,         nan,         nan,         nan,         nan,\n",
       "               nan,         nan,         nan,         nan,         nan,\n",
       "               nan,         nan,         nan,         nan,         nan,\n",
       "               nan,         nan,         nan,         nan,         nan,\n",
       "               nan,         nan,         nan,         nan,         nan,\n",
       "               nan,         nan,         nan,         nan,         nan,\n",
       "               nan,         nan,         nan,         nan,         nan,\n",
       "               nan,         nan,         nan,         nan,         nan,\n",
       "               nan,         nan,         nan,         nan,         nan,\n",
       "               nan,         nan,         nan,         nan,         nan,\n",
       "               nan,         nan,         nan,         nan,         nan,\n",
       "               nan,         nan,         nan,         nan,         nan,\n",
       "               nan,         nan,         nan,         nan,         nan,\n",
       "               nan,         nan,         nan,         nan,         nan,\n",
       "               nan,         nan,         nan,         nan,         nan,\n",
       "               nan,         nan,         nan,         nan,         nan,\n",
       "               nan,         nan,         nan,         nan,         nan,\n",
       "               nan,         nan,         nan,         nan,         nan,\n",
       "               nan,         nan,         nan,         nan,         nan,\n",
       "               nan,         nan,         nan,         nan,         nan,\n",
       "               nan,         nan,         nan,         nan,         nan,\n",
       "               nan,         nan,         nan,         nan,         nan,\n",
       "               nan,         nan,         nan,         nan,         nan,\n",
       "               nan,         nan,         nan,         nan,         nan,\n",
       "               nan,         nan,         nan,         nan,         nan,\n",
       "               nan,         nan,         nan,         nan,         nan,\n",
       "               nan,         nan,         nan,         nan,         nan,\n",
       "               nan,         nan,         nan,         nan,         nan,\n",
       "               nan,         nan,         nan,         nan,         nan,\n",
       "               nan,         nan,         nan,         nan,         nan,\n",
       "               nan,         nan,         nan,         nan,         nan,\n",
       "               nan,         nan,         nan,         nan,         nan,\n",
       "               nan,         nan,         nan,         nan,         nan,\n",
       "               nan,         nan,         nan,         nan,         nan,\n",
       "               nan,         nan,         nan,         nan,         nan,\n",
       "               nan,         nan,         nan,         nan,         nan,\n",
       "               nan,         nan,         nan, -2.46459695, -1.92213334,\n",
       "       -1.69655402, -1.55218444, -1.44600677, -1.36214001, -1.29293255,\n",
       "       -1.23410331, -1.18301224, -1.13791528, -1.09759944, -1.06118671,\n",
       "       -1.02802092, -0.99759868, -0.96952527, -0.94348542, -0.91922328,\n",
       "       -0.89652836, -0.87522535, -0.85516673, -0.83622715, -0.81829917,\n",
       "       -0.80129006, -0.78511917, -0.76971595, -0.75501831, -0.74097133,\n",
       "       -0.72752618, -0.71463927, -0.70227152, -0.69038775, -0.67895618,\n",
       "       -0.66794802, -0.65733709, -0.64709951, -0.63721346, -0.62765893,\n",
       "       -0.61841754, -0.60947235, -0.60080773, -0.59240924, -0.58426347,\n",
       "       -0.57635797, -0.56868119, -0.56122235, -0.55397138, -0.54691888,\n",
       "       -0.54005606, -0.53337467, -0.52686697, -0.52052569, -0.51434398,\n",
       "       -0.5083154 , -0.50243386, -0.49669364, -0.4910893 , -0.48561572,\n",
       "       -0.48026804, -0.47504166, -0.4699322 , -0.46493551, -0.46004767,\n",
       "       -0.45526491, -0.45058367, -0.44600056, -0.44151233, -0.43711589,\n",
       "       -0.4328083 , -0.42858674, -0.42444851, -0.42039104, -0.41641186,\n",
       "       -0.41250862, -0.40867906, -0.404921  , -0.40123237, -0.39761117,\n",
       "       -0.39405548, -0.39056348, -0.38713338, -0.38376349, -0.38045217,\n",
       "       -0.37719785, -0.37399901, -0.37085419, -0.36776198, -0.36472103,\n",
       "       -0.36173002, -0.3587877 , -0.35589285, -0.35304429, -0.35024088,\n",
       "       -0.34748152, -0.34476516, -0.34209076, -0.33945734, -0.33686393,\n",
       "       -0.33430961, -0.33179347, -0.32931464, -0.32687228, -0.32446557,\n",
       "       -0.32209371, -0.31975595, -0.31745152, -0.31517971, -0.31293982,\n",
       "       -0.31073116, -0.30855307, -0.30640491, -0.30428605, -0.3021959 ,\n",
       "       -0.30013386, -0.29809935, -0.29609182, -0.29411073, -0.29215555,\n",
       "       -0.29022577, -0.28832088, -0.28644042, -0.28458389, -0.28275084,\n",
       "       -0.28094083, -0.27915342, -0.27738817, -0.27564468, -0.27392254,\n",
       "       -0.27222136, -0.27054076, -0.26888035, -0.26723978, -0.26561868,\n",
       "       -0.26401672, -0.26243354, -0.26086883, -0.25932225, -0.25779349,\n",
       "       -0.25628224, -0.25478821, -0.25331109, -0.2518506 , -0.25040646,\n",
       "       -0.24897839, -0.24756613, -0.24616941, -0.24478799, -0.24342159,\n",
       "       -0.24207   , -0.24073295, -0.23941022, -0.23810158, -0.23680681])"
      ]
     },
     "execution_count": 74,
     "metadata": {},
     "output_type": "execute_result"
    }
   ],
   "source": [
    "np.transpose(omegaArray)[0] "
   ]
  },
  {
   "cell_type": "code",
   "execution_count": 78,
   "metadata": {
    "collapsed": false
   },
   "outputs": [
    {
     "data": {
      "image/png": "[encoded data removed]",
      "text/plain": [
       "<matplotlib.figure.Figure at 0x11814b650>"
      ]
     },
     "metadata": {},
     "output_type": "display_data"
    }
   ],
   "source": [
    "plt.plot( nArray, np.transpose(omegaArray)[0], 'b' , nArray, np.transpose(omegaArray)[1], 'r' )\n",
    "plt.ylim([-0.3,0.2])\n",
    "plt.show()"
   ]
  },
  {
   "cell_type": "code",
   "execution_count": null,
   "metadata": {
    "collapsed": true
   },
   "outputs": [],
   "source": []
  },
  {
   "cell_type": "code",
   "execution_count": null,
   "metadata": {
    "collapsed": true
   },
   "outputs": [],
   "source": []
  }
 ],
 "metadata": {
  "kernelspec": {
   "display_name": "Python 2",
   "language": "python",
   "name": "python2"
  },
  "language_info": {
   "codemirror_mode": {
    "name": "ipython",
    "version": 2
   },
   "file_extension": ".py",
   "mimetype": "text/x-python",
   "name": "python",
   "nbconvert_exporter": "python",
   "pygments_lexer": "ipython2",
   "version": "2.7.13"
  }
 },
 "nbformat": 4,
 "nbformat_minor": 2
}
